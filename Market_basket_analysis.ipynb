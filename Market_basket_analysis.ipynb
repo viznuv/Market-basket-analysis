{
  "nbformat": 4,
  "nbformat_minor": 0,
  "metadata": {
    "colab": {
      "provenance": [],
      "authorship_tag": "ABX9TyPVaRsCNr0IdCEGVirVXObr",
      "include_colab_link": true
    },
    "kernelspec": {
      "name": "python3",
      "display_name": "Python 3"
    },
    "language_info": {
      "name": "python"
    }
  },
  "cells": [
    {
      "cell_type": "markdown",
      "metadata": {
        "id": "view-in-github",
        "colab_type": "text"
      },
      "source": [
        "<a href=\"https://colab.research.google.com/github/viznuv/Market-basket-analysis/blob/main/Market_basket_analysis.ipynb\" target=\"_parent\"><img src=\"https://colab.research.google.com/assets/colab-badge.svg\" alt=\"Open In Colab\"/></a>"
      ]
    },
    {
      "cell_type": "code",
      "execution_count": null,
      "metadata": {
        "colab": {
          "base_uri": "https://localhost:8080/"
        },
        "id": "QUZi6LCTAn-F",
        "outputId": "850de834-11a1-4779-fd81-e011301702e9"
      },
      "outputs": [
        {
          "output_type": "stream",
          "name": "stderr",
          "text": [
            "/usr/local/lib/python3.11/dist-packages/ipykernel/ipkernel.py:283: DeprecationWarning: `should_run_async` will not call `transform_cell` automatically in the future. Please pass the result to `transformed_cell` argument and any exception that happen during thetransform in `preprocessing_exc_tuple` in IPython 7.17 and above.\n",
            "  and should_run_async(code)\n"
          ]
        },
        {
          "output_type": "stream",
          "name": "stdout",
          "text": [
            "Frequent Itemsets:\n",
            "      support                              itemsets\n",
            "86   0.241078                          (whole milk)\n",
            "55   0.185968                    (other vegetables)\n",
            "66   0.177834                          (rolls/buns)\n",
            "75   0.169090                                (soda)\n",
            "87   0.135740                              (yogurt)\n",
            "..        ...                                   ...\n",
            "168  0.010168   (domestic eggs, whipped/sour cream)\n",
            "99   0.010066         (bottled water, citrus fruit)\n",
            "219  0.010066       (salty snack, other vegetables)\n",
            "293  0.010066  (other vegetables, rolls/buns, soda)\n",
            "288  0.010066            (curd, yogurt, whole milk)\n",
            "\n",
            "[314 rows x 2 columns]\n",
            "\n",
            "Association Rules:\n",
            "                           antecedents         consequents  \\\n",
            "103          (yogurt, root vegetables)        (whole milk)   \n",
            "77   (tropical fruit, root vegetables)  (other vegetables)   \n",
            "62            (curd, other vegetables)        (whole milk)   \n",
            "64                      (curd, yogurt)        (whole milk)   \n",
            "59          (butter, other vegetables)        (whole milk)   \n",
            "..                                 ...                 ...   \n",
            "100       (whole milk, tropical fruit)   (root vegetables)   \n",
            "53                (whipped/sour cream)            (yogurt)   \n",
            "29                         (margarine)  (other vegetables)   \n",
            "9                       (citrus fruit)        (whole milk)   \n",
            "73            (other vegetables, soda)        (rolls/buns)   \n",
            "\n",
            "     antecedent support  consequent support   support  confidence      lift  \\\n",
            "103            0.025114            0.241078  0.015252    0.607287  2.519052   \n",
            "77             0.019420            0.185968  0.011693    0.602094  3.237614   \n",
            "62             0.017387            0.241078  0.010371    0.596491  2.474269   \n",
            "64             0.017184            0.241078  0.010066    0.585799  2.429916   \n",
            "59             0.020539            0.241078  0.011998    0.584158  2.423112   \n",
            "..                  ...                 ...       ...         ...       ...   \n",
            "100            0.034469            0.106965  0.010778    0.312684  2.923242   \n",
            "53             0.071073            0.135740  0.022064    0.310443  2.287050   \n",
            "29             0.058160            0.185968  0.017997    0.309441  1.663941   \n",
            "9              0.081342            0.241078  0.025114    0.308750  1.280707   \n",
            "73             0.033554            0.177834  0.010066    0.300000  1.686964   \n",
            "\n",
            "     representativity  leverage  conviction  zhangs_metric   jaccard  \\\n",
            "103               1.0  0.009197    1.932513       0.618560  0.060778   \n",
            "77                1.0  0.008081    2.045790       0.704818  0.060367   \n",
            "62                1.0  0.006180    1.880807       0.606383  0.041803   \n",
            "64                1.0  0.005924    1.832255       0.598752  0.040557   \n",
            "59                1.0  0.007046    1.825027       0.599623  0.048065   \n",
            "..                ...       ...         ...            ...       ...   \n",
            "100               1.0  0.007091    1.299309       0.681401  0.082490   \n",
            "53                1.0  0.012417    1.253357       0.605812  0.119428   \n",
            "29                1.0  0.007181    1.178800       0.423657  0.079586   \n",
            "9                 1.0  0.005505    1.097898       0.238589  0.084473   \n",
            "73                1.0  0.004099    1.174522       0.421357  0.050000   \n",
            "\n",
            "     certainty  kulczynski  \n",
            "103   0.482539    0.335276  \n",
            "77    0.511191    0.332485  \n",
            "62    0.468313    0.319756  \n",
            "64    0.454224    0.313777  \n",
            "59    0.452063    0.316963  \n",
            "..         ...         ...  \n",
            "100   0.230360    0.206722  \n",
            "53    0.202143    0.236495  \n",
            "29    0.151680    0.203107  \n",
            "9     0.089169    0.206463  \n",
            "73    0.148590    0.178302  \n",
            "\n",
            "[109 rows x 14 columns]\n"
          ]
        }
      ],
      "source": [
        "# Install mlxtend if you haven't already (uncomment the next line)\n",
        "# !pip install mlxtend\n",
        "\n",
        "import pandas as pd\n",
        "from mlxtend.preprocessing import TransactionEncoder\n",
        "from mlxtend.frequent_patterns import apriori, association_rules\n",
        "\n",
        "# Step 1: Load the dataset from CSV (adjust the file name/path as needed)\n",
        "data = pd.read_csv(\"/content/market basket analysis.csv\")\n",
        "\n",
        "# Step 2: Drop the Transaction ID column if it exists\n",
        "if \"Transaction\" in data.columns:\n",
        "    data = data.drop(\"Transaction\", axis=1)\n",
        "\n",
        "# Step 3: Convert each row into a list of products (ignoring NaNs and empty strings)\n",
        "transactions = []\n",
        "for index, row in data.iterrows():\n",
        "    # Filter out NaN values and empty strings, and strip any extra whitespace\n",
        "    transaction = [str(item).strip() for item in row if pd.notnull(item) and str(item).strip() != \"\"]\n",
        "    transactions.append(transaction)\n",
        "\n",
        "# Step 4: One-hot encode the transactions using TransactionEncoder\n",
        "te = TransactionEncoder()\n",
        "te_array = te.fit(transactions).transform(transactions)\n",
        "df_encoded = pd.DataFrame(te_array, columns=te.columns_)\n",
        "\n",
        "# Step 5: Use the Apriori algorithm to extract frequent itemsets\n",
        "# Adjust min_support according to your data size and needs (here it's set to 1% support)\n",
        "frequent_itemsets = apriori(df_encoded, min_support=0.01, use_colnames=True)\n",
        "\n",
        "# Optional: View frequent itemsets\n",
        "print(\"Frequent Itemsets:\")\n",
        "print(frequent_itemsets.sort_values(by=\"support\", ascending=False))\n",
        "\n",
        "# Step 6: Generate association rules from the frequent itemsets\n",
        "# Here, we use 'confidence' as the metric and set a minimum threshold of 0.3\n",
        "rules = association_rules(frequent_itemsets, metric=\"confidence\", min_threshold=0.3)\n",
        "\n",
        "# View the association rules\n",
        "print(\"\\nAssociation Rules:\")\n",
        "print(rules.sort_values(by=\"confidence\", ascending=False))\n"
      ]
    }
  ]
}